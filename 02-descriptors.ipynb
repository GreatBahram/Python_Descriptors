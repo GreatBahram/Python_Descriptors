{
 "cells": [
  {
   "cell_type": "code",
   "execution_count": 1,
   "metadata": {},
   "outputs": [
    {
     "data": {
      "text/html": [
       "<style>.container { width:85% !important; }</style>"
      ],
      "text/plain": [
       "<IPython.core.display.HTML object>"
      ]
     },
     "metadata": {},
     "output_type": "display_data"
    }
   ],
   "source": [
    "# increase Juypter notebook width\n",
    "from IPython.core.display import display, HTML\n",
    "display(HTML(\"<style>.container { width:85% !important; }</style>\"))"
   ]
  },
  {
   "cell_type": "markdown",
   "metadata": {},
   "source": [
    "# Introduction to Python property\n",
    "\n",
    "By [GreatBahram](https://virgool.io/@greatbahram)"
   ]
  },
  {
   "cell_type": "markdown",
   "metadata": {},
   "source": [
    "* I usually write about python at https://virgool.io/@GreatBahram/"
   ]
  },
  {
   "cell_type": "markdown",
   "metadata": {},
   "source": [
    "![Our Society Logo](static/descriptors.png)"
   ]
  },
  {
   "cell_type": "markdown",
   "metadata": {},
   "source": [
    "### Things to bear in mind\n",
    "\n",
    "* Please, feel free to **shout out** if you have any question.\n",
    "\n",
    "\n",
    "* This is not a normal presenation, it's going to be **an interactive tutorial**."
   ]
  },
  {
   "cell_type": "markdown",
   "metadata": {},
   "source": [
    "# Python Descriptors"
   ]
  },
  {
   "cell_type": "markdown",
   "metadata": {},
   "source": [
    "So, **What is** descriptors, **How** can we define one of them?"
   ]
  },
  {
   "cell_type": "markdown",
   "metadata": {},
   "source": [
    "1. Store the data inside the **descriptor**"
   ]
  },
  {
   "cell_type": "markdown",
   "metadata": {},
   "source": [
    "```python\n",
    "class NonNegative:\n",
    "    \"\"\"\n",
    "     A descriptor that forbids negative values.\n",
    "    \"\"\"\n",
    "    def __init__(self, initial):\n",
    "        self.value = initial\n",
    "        \n",
    "    def __get__(self, instance, owner):\n",
    "        return self.value\n",
    "    \n",
    "    def __set__(self, instance, value):\n",
    "        if value < 0:\n",
    "            raise ValueError(f\"Negative value not allowed: {value}\")\n",
    "        self.value = value\n",
    "```"
   ]
  },
  {
   "cell_type": "markdown",
   "metadata": {},
   "source": [
    "2. Store the data inside the **descriptor**"
   ]
  },
  {
   "cell_type": "markdown",
   "metadata": {},
   "source": [
    "```python\n",
    "class NonNegative:\n",
    "    \"\"\"\n",
    "     A descriptor that forbids negative values.\n",
    "    \"\"\"\n",
    "    self.STORAGE = {}\n",
    "    def __init__(self, initial):\n",
    "        self.intial = initial\n",
    "        \n",
    "    def __get__(self, instance, owner):\n",
    "        # we get here when someone calls x.d, and d is a NonNegative instance\n",
    "        # instance = x\n",
    "        # owner = type(x)\n",
    "        return self.STORAGE.get(instance, self.default)\n",
    "    \n",
    "    def __set__(self, instance, value):\n",
    "        if value < 0:\n",
    "            raise ValueError(\"Negative value not allowed: %s\" % value)\n",
    "        self.STORAGE[instance] = value\n",
    "```"
   ]
  },
  {
   "cell_type": "markdown",
   "metadata": {},
   "source": [
    "3. Store the data inside the **descriptor**"
   ]
  },
  {
   "cell_type": "markdown",
   "metadata": {},
   "source": [
    "```python\n",
    "class NonNegative:\n",
    "    \"\"\"\n",
    "     A descriptor that forbids negative values.\n",
    "     Store the data into the instance itself.\n",
    "    \"\"\"\n",
    "    def __init__(self, initial):\n",
    "        self.initial = initial\n",
    "        \n",
    "    def __get__(self, instance, owner):\n",
    "        getattr(instance, '_value', self.initial)\n",
    "    \n",
    "    def __set__(self, instance, value):\n",
    "        if value < 0:\n",
    "            raise ValueError(\"Negative value not allowed: %s\" % value)\n",
    "        setattr(instance, '_value, value)\n",
    "```"
   ]
  }
 ],
 "metadata": {
  "kernelspec": {
   "display_name": "Python 3",
   "language": "python",
   "name": "python3"
  },
  "language_info": {
   "codemirror_mode": {
    "name": "ipython",
    "version": 3
   },
   "file_extension": ".py",
   "mimetype": "text/x-python",
   "name": "python",
   "nbconvert_exporter": "python",
   "pygments_lexer": "ipython3",
   "version": "3.7.3"
  }
 },
 "nbformat": 4,
 "nbformat_minor": 2
}
