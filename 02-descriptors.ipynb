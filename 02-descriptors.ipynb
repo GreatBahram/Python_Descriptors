{
 "cells": [
  {
   "cell_type": "code",
   "execution_count": 4,
   "metadata": {},
   "outputs": [
    {
     "data": {
      "text/html": [
       "<style>.container { width:75% !important; }</style>"
      ],
      "text/plain": [
       "<IPython.core.display.HTML object>"
      ]
     },
     "metadata": {},
     "output_type": "display_data"
    }
   ],
   "source": [
    "# increase Juypter notebook width\n",
    "from IPython.core.display import display, HTML\n",
    "display(HTML(\"<style>.container { width:75% !important; }</style>\"))"
   ]
  },
  {
   "cell_type": "markdown",
   "metadata": {},
   "source": [
    "# Python Descriptors\n",
    "\n",
    "By [GreatBahram](https://virgool.io/@greatbahram)"
   ]
  },
  {
   "cell_type": "markdown",
   "metadata": {},
   "source": [
    "* I usually write about python at https://virgool.io/@GreatBahram/"
   ]
  },
  {
   "cell_type": "markdown",
   "metadata": {},
   "source": [
    "![Our Society Logo](static/descriptors.png)"
   ]
  },
  {
   "cell_type": "markdown",
   "metadata": {},
   "source": [
    "### Things to bear in mind\n",
    "\n",
    "* Please, feel free to **shout out** if you have any question.\n",
    "\n",
    "\n",
    "* This is not a normal presenation, it's going to be **an interactive tutorial**."
   ]
  },
  {
   "cell_type": "markdown",
   "metadata": {},
   "source": [
    "# Python Descriptors"
   ]
  },
  {
   "cell_type": "markdown",
   "metadata": {},
   "source": [
    "![Flask-Sqlalchemy](static/sqlalchemy.png)"
   ]
  },
  {
   "cell_type": "markdown",
   "metadata": {},
   "source": [
    "So, **What is** descriptors, **How** can we define one of them?\n",
    "\n",
    "* A mechanism to **generalize** a property.\n",
    "* According to python documentation:\n",
    "> a descriptor is an object attribute with “binding behavior”"
   ]
  },
  {
   "cell_type": "markdown",
   "metadata": {},
   "source": [
    "What is necessary to define a property?\n",
    "* `__get__(self, instance, owner)`\n",
    "\n",
    "\n",
    "* `__set__(self, instance, value)`\n",
    "\n",
    "\n",
    "* `__delete__(self, instance)`"
   ]
  },
  {
   "cell_type": "markdown",
   "metadata": {},
   "source": [
    "### Example 1"
   ]
  },
  {
   "cell_type": "code",
   "execution_count": 22,
   "metadata": {},
   "outputs": [],
   "source": [
    "class NonNegative:\n",
    "    \"\"\" A descriptors that forbids negative values.\"\"\""
   ]
  },
  {
   "cell_type": "code",
   "execution_count": 16,
   "metadata": {},
   "outputs": [],
   "source": [
    "class Movie:\n",
    "    rating = NonNegative(0)\n",
    "    runtime = NonNegative(0)\n",
    "    budget = NonNegative(0)\n",
    "    gross = NonNegative(0)\n",
    "    \n",
    "    def __init__(self, title, rating, runtime, budget, gross):\n",
    "        self.title = title\n",
    "        self.rating = rating\n",
    "        self.runtime = runtime\n",
    "        self.budget = budget\n",
    "        self.gross = gross\n",
    "        \n",
    "    def profit(self):\n",
    "        return self.gross - self.budget"
   ]
  },
  {
   "cell_type": "code",
   "execution_count": 17,
   "metadata": {},
   "outputs": [],
   "source": [
    "m = Movie('Titanic', rating=5, runtime=100, budget=100, gross=50)"
   ]
  },
  {
   "cell_type": "markdown",
   "metadata": {},
   "source": [
    "### Example 2"
   ]
  },
  {
   "cell_type": "markdown",
   "metadata": {},
   "source": [
    "```python\n",
    "class NonNegative:\n",
    "    \"\"\"\n",
    "     A descriptor that forbids negative values.\n",
    "    \"\"\"\n",
    "    STORAGE = {}\n",
    "    def __init__(self, initial):\n",
    "        self.intial = initial\n",
    "        \n",
    "    def __get__(self, instance, owner):\n",
    "        # we get here when someone calls x.d, and d is a NonNegative instance\n",
    "        # instance = x\n",
    "        # owner = type(x)\n",
    "        return self.STORAGE.get(instance, self.default)\n",
    "    \n",
    "    def __set__(self, instance, value):\n",
    "        if value < 0:\n",
    "            raise ValueError(\"Negative value not allowed: %s\" % value)\n",
    "        self.STORAGE[instance] = value\n",
    "    \n",
    "    def __delete__(self, instance):\n",
    "        del self.STORAGE[instance]\n",
    "```"
   ]
  },
  {
   "cell_type": "markdown",
   "metadata": {},
   "source": [
    "### Example 3"
   ]
  },
  {
   "cell_type": "markdown",
   "metadata": {},
   "source": [
    "```python\n",
    "class NonNegative:\n",
    "    \"\"\"\n",
    "     A descriptor that forbids negative values.\n",
    "     Store the data into the instance itself.\n",
    "    \"\"\"\n",
    "    def __init__(self, initial):\n",
    "        self.initial = initial\n",
    "        \n",
    "    def __get__(self, instance, owner):\n",
    "        getattr(instance, '_value', self.initial)\n",
    "        # return instance.__dict__.get('_value', self.initial)\n",
    "    \n",
    "    def __set__(self, instance, value):\n",
    "        if value < 0:\n",
    "            raise ValueError(f\"Negative value not allowed: {value}\")\n",
    "        setattr(instance, '_value', value)\n",
    "        # instance.__dict__['_value'] = value\n",
    "```"
   ]
  },
  {
   "cell_type": "markdown",
   "metadata": {},
   "source": [
    "### Example 4"
   ]
  },
  {
   "cell_type": "markdown",
   "metadata": {},
   "source": [
    "* This only works on python 3.6+"
   ]
  },
  {
   "cell_type": "markdown",
   "metadata": {},
   "source": [
    "```python\n",
    "class NonNegative:\n",
    "    \"\"\"\n",
    "     A descriptor that forbids negative values.\n",
    "    \"\"\"\n",
    "    def __init__(self, initial):\n",
    "        self.initial = initial\n",
    "        self.name = None\n",
    "        \n",
    "    def __get__(self, instance, owner):\n",
    "        getattr(instance, '_value', self.initial)\n",
    "    \n",
    "    def __set__(self, instance, value):\n",
    "        if value < 0:\n",
    "            raise ValueError(f\"Negative value not allowed: {value}\")\n",
    "        if not name:\n",
    "            self.name = '_value'\n",
    "        setattr(instance, self.name, value)\n",
    "    \n",
    "    def __set_name__(self, owner, name):\n",
    "        self.name  name\n",
    "```"
   ]
  },
  {
   "cell_type": "markdown",
   "metadata": {},
   "source": [
    "### Example 5 - Improve the implementation"
   ]
  },
  {
   "cell_type": "markdown",
   "metadata": {},
   "source": [
    "```python\n",
    "from abc import ABC, abstractmethod\n",
    "\n",
    "\n",
    "class Validator(ABC):\n",
    "    def __init__(self, initial):\n",
    "        self.initial = initial\n",
    "        \n",
    "    def __get__(self, instance, owner):\n",
    "        getattr(instance, '_value', self.initial)\n",
    "    \n",
    "    def __set__(self, instance, value):\n",
    "        self.validate(value)\n",
    "        setattr(instance, '_value', value)\n",
    "    \n",
    "    @abstractmethod\n",
    "    def validate(self, value):\n",
    "        \"\"\"Validate the give data.\"\"\"\n",
    "```"
   ]
  },
  {
   "cell_type": "markdown",
   "metadata": {},
   "source": [
    "## Exercise - cached_property"
   ]
  },
  {
   "cell_type": "code",
   "execution_count": 115,
   "metadata": {},
   "outputs": [],
   "source": [
    "class Circle:\n",
    "    def __init__(self, radius):\n",
    "        self.radius = radius\n",
    "    \n",
    "    @cached_property\n",
    "    def diameter(self):\n",
    "        return self.radius * 2"
   ]
  },
  {
   "cell_type": "markdown",
   "metadata": {},
   "source": [
    "* **Step 1**: A cached property should compute its value **once** and update its data by **assignment**."
   ]
  },
  {
   "cell_type": "code",
   "execution_count": 123,
   "metadata": {},
   "outputs": [],
   "source": [
    "class cached_property:\n",
    "    \"\"\"\n",
    "    Decorator that converts a method with a single self argument into a\n",
    "    property cached on the instance.\n",
    "    \"\"\""
   ]
  }
 ],
 "metadata": {
  "kernelspec": {
   "display_name": "Python 3",
   "language": "python",
   "name": "python3"
  },
  "language_info": {
   "codemirror_mode": {
    "name": "ipython",
    "version": 3
   },
   "file_extension": ".py",
   "mimetype": "text/x-python",
   "name": "python",
   "nbconvert_exporter": "python",
   "pygments_lexer": "ipython3",
   "version": "3.7.3"
  }
 },
 "nbformat": 4,
 "nbformat_minor": 2
}
