{
 "cells": [
  {
   "cell_type": "code",
   "execution_count": 85,
   "metadata": {},
   "outputs": [
    {
     "data": {
      "text/html": [
       "<style>.container { width:85% !important; }</style>"
      ],
      "text/plain": [
       "<IPython.core.display.HTML object>"
      ]
     },
     "metadata": {},
     "output_type": "display_data"
    }
   ],
   "source": [
    "# increase Juypter notebook width\n",
    "from IPython.core.display import display, HTML\n",
    "display(HTML(\"<style>.container { width:85% !important; }</style>\"))"
   ]
  },
  {
   "cell_type": "markdown",
   "metadata": {
    "slideshow": {
     "slide_type": "slide"
    }
   },
   "source": [
    "# Introduction to Python property\n",
    "\n",
    "By [GreatBahram](https://virgool.io/@greatbahram)"
   ]
  },
  {
   "cell_type": "markdown",
   "metadata": {},
   "source": [
    "* I usually write about python at https://virgool.io/@GreatBahram/"
   ]
  },
  {
   "cell_type": "markdown",
   "metadata": {
    "slideshow": {
     "slide_type": "subslide"
    }
   },
   "source": [
    "![Our Society Logo](static/property.png)"
   ]
  },
  {
   "cell_type": "markdown",
   "metadata": {
    "slideshow": {
     "slide_type": "slide"
    }
   },
   "source": [
    "### Things to bear in mind\n",
    "\n",
    "* Please, feel free to **shout out** if you have any question.\n",
    "\n",
    "\n",
    "* This is not a normal presenation, it's going to be **an interactive tutorial**."
   ]
  },
  {
   "cell_type": "markdown",
   "metadata": {
    "slideshow": {
     "slide_type": "subslide"
    }
   },
   "source": [
    "## What is `property`?\n",
    "\n",
    "\n",
    "* `property` is used for managing **attribute access**.\n",
    "\n",
    "\n",
    "* Properties give us **some features** present in **statically typed languages** such as C families, Java and so on."
   ]
  },
  {
   "cell_type": "markdown",
   "metadata": {
    "slideshow": {
     "slide_type": "subslide"
    }
   },
   "source": [
    "But what are those **features**:\n",
    "* Instead of accessing attributes **directly** one can define separate methods for: **normalization**, **validation**.\n",
    "\n",
    "\n",
    "* Computing data (**setter**).\n",
    "\n",
    "\n",
    "* Deleting attributes (**deleter**)"
   ]
  },
  {
   "cell_type": "markdown",
   "metadata": {
    "slideshow": {
     "slide_type": "slide"
    }
   },
   "source": [
    "## Hands-on\n",
    "\n",
    "Imagine, we want to make a class that represents **a circle**."
   ]
  },
  {
   "cell_type": "markdown",
   "metadata": {},
   "source": [
    "![Circle Formula](static/index.jpeg)"
   ]
  },
  {
   "cell_type": "markdown",
   "metadata": {
    "slideshow": {
     "slide_type": "slide"
    }
   },
   "source": [
    "A circle should have:\n",
    "\n",
    "* Radius\n",
    "\n",
    "\n",
    "* Diameter (2 * radius)\n",
    "\n",
    "\n",
    "* Area (pi * radius ** 2)"
   ]
  },
  {
   "cell_type": "code",
   "execution_count": null,
   "metadata": {
    "slideshow": {
     "slide_type": "subslide"
    }
   },
   "outputs": [],
   "source": [
    "import math\n",
    "\n",
    "\n",
    "class Circle:\n",
    "    \"\"\"Circle with radius, area, and diameter.\"\"\"\n",
    "    def __init__(self, radius):\n",
    "        pass"
   ]
  },
  {
   "cell_type": "code",
   "execution_count": null,
   "metadata": {
    "slideshow": {
     "slide_type": "subslide"
    }
   },
   "outputs": [],
   "source": [
    "# Instantiate Circle object\n",
    "\n",
    "c = Circle(4)\n",
    "\n",
    "print(f'Radius: {c.radius}')\n",
    "\n",
    "print(f'Diameter: {c.diameter}')\n",
    "\n",
    "print(f'Area: {c.area}')\n",
    "\n",
    "print(c)"
   ]
  },
  {
   "cell_type": "markdown",
   "metadata": {
    "slideshow": {
     "slide_type": "fragment"
    }
   },
   "source": [
    "### Task 1\n",
    "It's good idea to always add a string representation for your objects.\n",
    "\n",
    "* So, firstly, add a nice string representation for this class. You can use `__repr__` and `__str__`. Which one is better in this case?\n",
    "\n",
    "\n",
    "* when we change the radius, the diameter and area should change automatically."
   ]
  },
  {
   "cell_type": "code",
   "execution_count": 86,
   "metadata": {},
   "outputs": [],
   "source": [
    "import math\n",
    "\n",
    "\n",
    "class Circle:\n",
    "    \"\"\"Circle with radius, area, and diameter.\"\"\"\n",
    "    pass"
   ]
  },
  {
   "cell_type": "code",
   "execution_count": null,
   "metadata": {},
   "outputs": [],
   "source": [
    "# Instantiate Circle object\n",
    "c = Circle(4)\n",
    "\n",
    "print(c)\n",
    "\n",
    "print(f'Radius: {c.radius}')\n",
    "\n",
    "print(f'Diameter: {c.diameter}')\n",
    "\n",
    "print(f'Area: {c.area}')\n",
    "\n",
    "print('-------------------')\n",
    "\n",
    "# change circle radius and make sure it works\n",
    "#c.radius = 12\n",
    "\n",
    "#print(f'Radius: {c.radius}')\n",
    "\n",
    "#print(f'Diameter: {c.diameter}')\n",
    "\n",
    "#print(f'Area: {c.area}')"
   ]
  },
  {
   "cell_type": "markdown",
   "metadata": {},
   "source": [
    "### Recap\n",
    "* What we have done so far?\n",
    "\n",
    "\n",
    "* We somehow make a **method** to **act** like an **attribute**, right?"
   ]
  },
  {
   "cell_type": "code",
   "execution_count": null,
   "metadata": {},
   "outputs": [],
   "source": [
    "\n",
    "\n",
    "\n",
    "\n",
    "\n",
    "\n",
    "\n"
   ]
  },
  {
   "cell_type": "markdown",
   "metadata": {},
   "source": [
    "### Round #2\n",
    "\n",
    "* What if somebody changes diameter? Does that affect radius and area?\n",
    "\n",
    "\n",
    "* What about prevent setting area by rasing exception.\n",
    "\n"
   ]
  },
  {
   "cell_type": "code",
   "execution_count": 87,
   "metadata": {},
   "outputs": [],
   "source": [
    "import math\n",
    "\n",
    "\n",
    "class Circle:\n",
    "    \"\"\"Circle with radius, area, and diameter.\"\"\"\n",
    "    pass"
   ]
  },
  {
   "cell_type": "code",
   "execution_count": null,
   "metadata": {},
   "outputs": [],
   "source": [
    "# Instantiate Circle object\n",
    "c = Circle(4)\n",
    "\n",
    "print(f'Radius: {c.radius}, diameter: {c.diameter}, area: {c.area}')\n",
    "\n",
    "print('-------------------')\n",
    "# change circle diamter and make sure it works as we wanted\n",
    "\n",
    "#c.diameter = 12\n",
    "\n",
    "#print(f'New radius: {c.radius}, diameter: {c.diameter}, area: {c.area}')"
   ]
  },
  {
   "cell_type": "markdown",
   "metadata": {},
   "source": [
    "### Recap\n",
    "* What we have done in this assignment?\n",
    "\n",
    "* We used **setter** method of property."
   ]
  },
  {
   "cell_type": "code",
   "execution_count": null,
   "metadata": {},
   "outputs": [],
   "source": [
    "\n",
    "\n",
    "\n",
    "\n",
    "\n",
    "\n",
    "\n",
    "\n",
    "\n",
    "\n"
   ]
  },
  {
   "cell_type": "markdown",
   "metadata": {},
   "source": [
    "### Round #3\n",
    "\n",
    "* Make sure your **radius cannot be set** to a **negative number**.\n",
    "\n",
    "\n",
    "* Raise which exception and why? Do we need to subclass our exception?\n",
    "\n",
    "\n",
    "* Cover deleter method too."
   ]
  },
  {
   "cell_type": "code",
   "execution_count": 88,
   "metadata": {},
   "outputs": [],
   "source": [
    "import math\n",
    "\n",
    "\n",
    "class Circle:\n",
    "    \"\"\"Circle with radius, area, and diameter.\"\"\"\n",
    "    pass"
   ]
  },
  {
   "cell_type": "code",
   "execution_count": null,
   "metadata": {},
   "outputs": [],
   "source": [
    "# Instantiate Circle object\n",
    "c = Circle(4)\n",
    "\n",
    "print(c.radius)\n",
    "\n",
    "try:\n",
    "    c.radius = -100  # calls radius.setter(-100), and raises ValueError\n",
    "    \n",
    "except ValueError:\n",
    "    print(\"Woops. Not allowed\")"
   ]
  },
  {
   "cell_type": "markdown",
   "metadata": {},
   "source": [
    "### Recap"
   ]
  },
  {
   "cell_type": "code",
   "execution_count": null,
   "metadata": {},
   "outputs": [],
   "source": [
    "\n",
    "\n",
    "\n",
    "\n",
    "\n",
    "\n",
    "\n",
    "\n",
    "\n"
   ]
  },
  {
   "cell_type": "markdown",
   "metadata": {},
   "source": [
    "## Let's make it a little boring\n",
    "\n",
    "Properties can also be defined for **existing** get and set methods. For example:\n",
    "\n",
    "* Show property man page\n",
    "\n",
    "\n",
    "* Discuss use cases\n",
    "\n",
    "\n",
    "* A property attribute is actually a collection of methods bundled together."
   ]
  },
  {
   "cell_type": "code",
   "execution_count": null,
   "metadata": {},
   "outputs": [],
   "source": [
    "class Circle:\n",
    "    def __init__(self, radius):\n",
    "        self.set_radius(radius)\n",
    "    \n",
    "    def set_radius(self, radius):\n",
    "        if radius < 0:\n",
    "            raise ValueError('Radius cannot be negative.')\n",
    "        self._radius = radius\n",
    "    \n",
    "    def get_radius(self):\n",
    "        return self._radius\n",
    "    \n",
    "    def del_radius(self):\n",
    "        raise AttributeError(\"Can't delete attribute.\")"
   ]
  },
  {
   "cell_type": "markdown",
   "metadata": {},
   "source": [
    "\n",
    "Properties should **only** be used in cases where you actually need to **perform extra processing on attribute access**.\n",
    "* Don't **overuse** properties"
   ]
  },
  {
   "cell_type": "code",
   "execution_count": null,
   "metadata": {},
   "outputs": [],
   "source": [
    "class Person:\n",
    "    def __init__(self, name):\n",
    "        self.name = name\n",
    "    \n",
    "    @property\n",
    "    def name(self):\n",
    "        return self._name\n",
    "    \n",
    "    @name.setter\n",
    "    def name(self, name):\n",
    "        self._name = name"
   ]
  },
  {
   "cell_type": "markdown",
   "metadata": {},
   "source": [
    "## Use cases\n",
    "\n",
    "Propertires **don't** really **add any functionality** except from not having to write '()' on access.\n",
    "\n",
    "* Validation (Like negative value for radius)\n",
    "\n",
    "\n",
    "* Lazy loading (Like our example: area and diameter)\n",
    "\n",
    "\n",
    "* Abstraction\n",
    "\n",
    "\n",
    "* Beyond PEP8"
   ]
  },
  {
   "cell_type": "markdown",
   "metadata": {},
   "source": [
    "## Properties Get Tedious\n",
    "\n",
    "**What's the problem?**"
   ]
  },
  {
   "cell_type": "code",
   "execution_count": null,
   "metadata": {
    "scrolled": true
   },
   "outputs": [],
   "source": [
    "class Movie:\n",
    "    def __init__(self, title, rating, runtime, budget, gross):\n",
    "        self.title = title # str\n",
    "        self.rating = rating # int\n",
    "        self.runtime = runtime # int\n",
    "        self.budget = budget # int\n",
    "        self.gross = gross # int\n",
    "        \n",
    "    def profit(self):\n",
    "        return self.gross - self.budget"
   ]
  },
  {
   "cell_type": "code",
   "execution_count": null,
   "metadata": {},
   "outputs": [],
   "source": [
    "\n",
    "\n",
    "\n",
    "\n",
    "\n"
   ]
  },
  {
   "cell_type": "markdown",
   "metadata": {},
   "source": [
    "#### Possible solution:"
   ]
  },
  {
   "cell_type": "code",
   "execution_count": null,
   "metadata": {},
   "outputs": [],
   "source": [
    "class Movie(object):\n",
    "    def __init__(self, title, rating, runtime, budget, gross):\n",
    "        self._rating = None\n",
    "        self._runtime = None\n",
    "        self._budget = None\n",
    "        self._gross = None\n",
    "\n",
    "        self.title = title\n",
    "        self.rating = rating\n",
    "        self.runtime = runtime\n",
    "        self.gross = gross\n",
    "        self.budget = budget\n",
    "        \n",
    "    #nice\n",
    "    @property\n",
    "    def budget(self):\n",
    "        return self._budget\n",
    "    \n",
    "    @budget.setter\n",
    "    def budget(self, value):\n",
    "        if value < 0:\n",
    "            raise ValueError(\"Negative value not allowed: %s\" % value)\n",
    "        self._budget = value\n",
    "        \n",
    "    #ok    \n",
    "    @property\n",
    "    def rating(self):\n",
    "        return self._rating\n",
    "    \n",
    "    @rating.setter\n",
    "    def rating(self, value):\n",
    "        if value < 0:\n",
    "            raise ValueError(\"Negative value not allowed: %s\" % value)\n",
    "        self._rating = value\n",
    "       \n",
    "    #uhh...\n",
    "    @property\n",
    "    def runtime(self):\n",
    "        return self._runtime\n",
    "    \n",
    "    @runtime.setter\n",
    "    def runtime(self, value):\n",
    "        if value < 0:\n",
    "            raise ValueError(\"Negative value not allowed: %s\" % value)\n",
    "        self._runtime = value        \n",
    "    \n",
    "    #is this forever?\n",
    "    @property\n",
    "    def gross(self):\n",
    "        return self._gross\n",
    "    \n",
    "    @gross.setter\n",
    "    def gross(self, value):\n",
    "        if value < 0:\n",
    "            raise ValueError(\"Negative value not allowed: %s\" % value)\n",
    "        self._gross = value        \n",
    "        \n",
    "    def profit(self):\n",
    "        return self.gross - self.budget"
   ]
  },
  {
   "cell_type": "markdown",
   "metadata": {},
   "source": [
    "* Repetition\n",
    "\n",
    "\n",
    "* While properties make the **outsides** of classes look nice, they **don't** make the **insides** of classes look nice.\n",
    "\n",
    "\n",
    "* **Instance** or **class** variable?"
   ]
  },
  {
   "cell_type": "markdown",
   "metadata": {},
   "source": [
    "### There must be a better way 💕"
   ]
  },
  {
   "cell_type": "code",
   "execution_count": null,
   "metadata": {},
   "outputs": [],
   "source": [
    "class Movie(object):\n",
    "    rating = NonNegative(0)\n",
    "    runtime = NonNegative(0)\n",
    "    budget = NonNegative(0)\n",
    "    gross = NonNegative(0)\n",
    "    \n",
    "    def __init__(self, title, rating, runtime, budget, gross):\n",
    "        self.title = title\n",
    "        self.rating = rating\n",
    "        self.runtime = runtime\n",
    "        self.budget = budget\n",
    "        self.gross = gross\n",
    "        \n",
    "    def profit(self):\n",
    "        return self.gross - self.budget"
   ]
  },
  {
   "cell_type": "markdown",
   "metadata": {},
   "source": [
    "## Need more?"
   ]
  },
  {
   "cell_type": "markdown",
   "metadata": {},
   "source": [
    "Here you can find some interesting documents about python **decorator** and **property**\n",
    "\n",
    "[Python 101](https://python101.pythonlibrary.org/chapter25_decorators.html)\n",
    "\n",
    "[The Python Property Decorator](https://stackabuse.com/the-python-property-decorator/)\n",
    "\n",
    "[Luciano Ramalho Pythonic Objects idiomatic OOP in Python PyCon 2019 YouTube](https://www.youtube.com/watch?v=mUu_4k6a5-I)"
   ]
  }
 ],
 "metadata": {
  "kernelspec": {
   "display_name": "Python 3",
   "language": "python",
   "name": "python3"
  },
  "language_info": {
   "codemirror_mode": {
    "name": "ipython",
    "version": 3
   },
   "file_extension": ".py",
   "mimetype": "text/x-python",
   "name": "python",
   "nbconvert_exporter": "python",
   "pygments_lexer": "ipython3",
   "version": "3.7.3"
  }
 },
 "nbformat": 4,
 "nbformat_minor": 2
}
